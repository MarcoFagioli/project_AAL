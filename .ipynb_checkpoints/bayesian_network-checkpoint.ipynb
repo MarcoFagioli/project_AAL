{
 "cells": [
  {
   "cell_type": "markdown",
   "metadata": {},
   "source": [
    "## Bayesian Network"
   ]
  },
  {
   "cell_type": "code",
   "execution_count": 4,
   "metadata": {},
   "outputs": [],
   "source": [
    "import pandas as pd\n",
    "import numpy as np\n",
    "from libpgm.nodedata import NodeData\n",
    "from libpgm.graphskeleton import GraphSkeleton\n",
    "from libpgm.discretebayesiannetwork import DiscreteBayesianNetwork\n",
    "from libpgm.pgmlearner import PGMLearner\n",
    "from libpgm.dictionary import Dictionary\n",
    "from libpgm.tablecpdfactorization import TableCPDFactorization"
   ]
  },
  {
   "cell_type": "code",
   "execution_count": 5,
   "metadata": {},
   "outputs": [],
   "source": [
    "avg_df = pd.read_csv('data/measure_dataset.csv', sep = ';')\n",
    "\n",
    "avg_df['sitting'] = avg_df['class'].apply(lambda x:1 if x == 'sitting' else 0)\n",
    "avg_df['sittingdown'] = avg_df['class'].apply(lambda x:1 if x == 'sittingdown' else 0)\n",
    "avg_df['walking'] = avg_df['class'].apply(lambda x:1 if x == 'walking' else 0)\n",
    "avg_df['standing'] = avg_df['class'].apply(lambda x:1 if x == 'standing' else 0)\n",
    "avg_df['standingup'] = avg_df['class'].apply(lambda x:1 if x == 'standingup' else 0)"
   ]
  },
  {
   "cell_type": "code",
   "execution_count": 6,
   "metadata": {},
   "outputs": [],
   "source": [
    "nd = NodeData()\n",
    "nd.load(\"model-structure_sara.txt\")    # an input file\n",
    "skel = GraphSkeleton()\n",
    "skel.load(\"model-structure_sara.txt\")\n",
    "skel.toporder()\n",
    "bn = DiscreteBayesianNetwork(skel, nd)\n",
    "mydict = Dictionary()\n",
    "\n",
    "# instantiate my learner\n",
    "learner = PGMLearner()"
   ]
  },
  {
   "cell_type": "code",
   "execution_count": 7,
   "metadata": {},
   "outputs": [
    {
     "ename": "NameError",
     "evalue": "name 'json' is not defined",
     "output_type": "error",
     "traceback": [
      "\u001b[0;31m---------------------------------------------------------------------------\u001b[0m",
      "\u001b[0;31mNameError\u001b[0m                                 Traceback (most recent call last)",
      "\u001b[0;32m<ipython-input-7-d4deb371f6d2>\u001b[0m in \u001b[0;36m<module>\u001b[0;34m\u001b[0m\n\u001b[1;32m      1\u001b[0m \u001b[0;31m#train = pd.read_csv(\"train.csv\", sep=\";\")\u001b[0m\u001b[0;34m\u001b[0m\u001b[0;34m\u001b[0m\u001b[0;34m\u001b[0m\u001b[0m\n\u001b[1;32m      2\u001b[0m \u001b[0mavg_df_comp\u001b[0m \u001b[0;34m=\u001b[0m \u001b[0mavg_df\u001b[0m\u001b[0;34m[\u001b[0m\u001b[0;34m[\u001b[0m\u001b[0;34m\"roll1_var\"\u001b[0m\u001b[0;34m,\u001b[0m\u001b[0;34m\"pitch1_var\"\u001b[0m\u001b[0;34m,\u001b[0m\u001b[0;34m\"accel1_module\"\u001b[0m\u001b[0;34m,\u001b[0m\u001b[0;34m\"roll2_var\"\u001b[0m\u001b[0;34m,\u001b[0m\u001b[0;34m\"pitch2_var\"\u001b[0m\u001b[0;34m,\u001b[0m\u001b[0;34m\"accel2_module\"\u001b[0m\u001b[0;34m,\u001b[0m\u001b[0;34m\"roll3_var\"\u001b[0m\u001b[0;34m,\u001b[0m\u001b[0;34m\"pitch3_var\"\u001b[0m\u001b[0;34m,\u001b[0m\u001b[0;34m\"accel3_module\"\u001b[0m\u001b[0;34m,\u001b[0m\u001b[0;34m\"roll4_var\"\u001b[0m\u001b[0;34m,\u001b[0m\u001b[0;34m\"pitch4_var\"\u001b[0m\u001b[0;34m,\u001b[0m\u001b[0;34m\"accel4_module\"\u001b[0m\u001b[0;34m,\u001b[0m\u001b[0;34m\"accel_mean\"\u001b[0m\u001b[0;34m,\u001b[0m\u001b[0;34m\"accel_std\"\u001b[0m\u001b[0;34m,\u001b[0m\u001b[0;34m\"sitting\"\u001b[0m\u001b[0;34m,\u001b[0m\u001b[0;34m\"sittingdown\"\u001b[0m\u001b[0;34m,\u001b[0m\u001b[0;34m\"walking\"\u001b[0m\u001b[0;34m,\u001b[0m\u001b[0;34m\"standing\"\u001b[0m\u001b[0;34m,\u001b[0m\u001b[0;34m\"standingup\"\u001b[0m\u001b[0;34m]\u001b[0m\u001b[0;34m]\u001b[0m\u001b[0;34m\u001b[0m\u001b[0;34m\u001b[0m\u001b[0m\n\u001b[0;32m----> 3\u001b[0;31m \u001b[0mtrain\u001b[0m \u001b[0;34m=\u001b[0m \u001b[0mjson\u001b[0m\u001b[0;34m.\u001b[0m\u001b[0mloads\u001b[0m\u001b[0;34m(\u001b[0m\u001b[0mpd\u001b[0m\u001b[0;34m.\u001b[0m\u001b[0mDataFrame\u001b[0m\u001b[0;34m.\u001b[0m\u001b[0mto_json\u001b[0m\u001b[0;34m(\u001b[0m\u001b[0mavg_df_comp\u001b[0m\u001b[0;34m,\u001b[0m \u001b[0morient\u001b[0m\u001b[0;34m=\u001b[0m\u001b[0;34m\"records\"\u001b[0m\u001b[0;34m)\u001b[0m\u001b[0;34m,\u001b[0m \u001b[0mobject_pairs_hook\u001b[0m\u001b[0;34m=\u001b[0m\u001b[0mOrderedDict\u001b[0m\u001b[0;34m)\u001b[0m\u001b[0;34m\u001b[0m\u001b[0;34m\u001b[0m\u001b[0m\n\u001b[0m\u001b[1;32m      4\u001b[0m \u001b[0mbnet\u001b[0m \u001b[0;34m=\u001b[0m \u001b[0mlearner\u001b[0m\u001b[0;34m.\u001b[0m\u001b[0mdiscrete_mle_estimateparams\u001b[0m\u001b[0;34m(\u001b[0m\u001b[0mskel\u001b[0m\u001b[0;34m,\u001b[0m \u001b[0mtrain\u001b[0m\u001b[0;34m)\u001b[0m\u001b[0;34m\u001b[0m\u001b[0;34m\u001b[0m\u001b[0m\n\u001b[1;32m      5\u001b[0m \u001b[0;31m#bnet = learner.lg_estimatebn(skel, train)\u001b[0m\u001b[0;34m\u001b[0m\u001b[0;34m\u001b[0m\u001b[0;34m\u001b[0m\u001b[0m\n",
      "\u001b[0;31mNameError\u001b[0m: name 'json' is not defined"
     ]
    }
   ],
   "source": [
    "#train = pd.read_csv(\"train.csv\", sep=\";\")\n",
    "avg_df_comp = avg_df[[\"roll1_var\",\"pitch1_var\",\"accel1_module\",\"roll2_var\",\"pitch2_var\",\"accel2_module\",\"roll3_var\",\"pitch3_var\",\"accel3_module\",\"roll4_var\",\"pitch4_var\",\"accel4_module\",\"accel_mean\",\"accel_std\",\"sitting\",\"sittingdown\",\"walking\",\"standing\",\"standingup\"]]\n",
    "train = json.loads(pd.DataFrame.to_json(avg_df_comp, orient=\"records\"), object_pairs_hook=OrderedDict)\n",
    "bnet = learner.discrete_mle_estimateparams(skel, train)\n",
    "#bnet = learner.lg_estimatebn(skel, train)\n",
    "\n"
   ]
  }
 ],
 "metadata": {
  "kernelspec": {
   "display_name": "Python 3",
   "language": "python",
   "name": "python3"
  },
  "language_info": {
   "codemirror_mode": {
    "name": "ipython",
    "version": 3
   },
   "file_extension": ".py",
   "mimetype": "text/x-python",
   "name": "python",
   "nbconvert_exporter": "python",
   "pygments_lexer": "ipython3",
   "version": "3.7.1"
  }
 },
 "nbformat": 4,
 "nbformat_minor": 2
}
