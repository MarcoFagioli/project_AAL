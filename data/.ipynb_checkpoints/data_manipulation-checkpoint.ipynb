{
 "cells": [
  {
   "cell_type": "code",
   "execution_count": 127,
   "metadata": {},
   "outputs": [],
   "source": [
    "import pandas as pd\n",
    "import numpy as np"
   ]
  },
  {
   "cell_type": "code",
   "execution_count": 142,
   "metadata": {},
   "outputs": [],
   "source": [
    "df = pd.read_csv('original_dataset.csv', sep = ';')"
   ]
  },
  {
   "cell_type": "markdown",
   "metadata": {},
   "source": [
    "## Introduction of roll, pitch and module parameters for each accelerometer"
   ]
  },
  {
   "cell_type": "code",
   "execution_count": 143,
   "metadata": {},
   "outputs": [
    {
     "data": {
      "text/html": [
       "<div>\n",
       "<style scoped>\n",
       "    .dataframe tbody tr th:only-of-type {\n",
       "        vertical-align: middle;\n",
       "    }\n",
       "\n",
       "    .dataframe tbody tr th {\n",
       "        vertical-align: top;\n",
       "    }\n",
       "\n",
       "    .dataframe thead th {\n",
       "        text-align: right;\n",
       "    }\n",
       "</style>\n",
       "<table border=\"1\" class=\"dataframe\">\n",
       "  <thead>\n",
       "    <tr style=\"text-align: right;\">\n",
       "      <th></th>\n",
       "      <th>user</th>\n",
       "      <th>gender</th>\n",
       "      <th>age</th>\n",
       "      <th>how_tall_in_meters</th>\n",
       "      <th>weight</th>\n",
       "      <th>body_mass_index</th>\n",
       "      <th>x1</th>\n",
       "      <th>y1</th>\n",
       "      <th>z1</th>\n",
       "      <th>x2</th>\n",
       "      <th>...</th>\n",
       "      <th>module1</th>\n",
       "      <th>roll2</th>\n",
       "      <th>pitch2</th>\n",
       "      <th>module2</th>\n",
       "      <th>roll3</th>\n",
       "      <th>pitch3</th>\n",
       "      <th>module3</th>\n",
       "      <th>roll4</th>\n",
       "      <th>pitch4</th>\n",
       "      <th>module4</th>\n",
       "    </tr>\n",
       "  </thead>\n",
       "  <tbody>\n",
       "    <tr>\n",
       "      <th>0</th>\n",
       "      <td>debora</td>\n",
       "      <td>Woman</td>\n",
       "      <td>46</td>\n",
       "      <td>1,62</td>\n",
       "      <td>75</td>\n",
       "      <td>28,6</td>\n",
       "      <td>-3</td>\n",
       "      <td>92</td>\n",
       "      <td>-63</td>\n",
       "      <td>-23</td>\n",
       "      <td>...</td>\n",
       "      <td>111.543713</td>\n",
       "      <td>136.548158</td>\n",
       "      <td>41.308515</td>\n",
       "      <td>34.842503</td>\n",
       "      <td>131.496468</td>\n",
       "      <td>-2.062298</td>\n",
       "      <td>138.942434</td>\n",
       "      <td>-144.981829</td>\n",
       "      <td>39.884957</td>\n",
       "      <td>233.918789</td>\n",
       "    </tr>\n",
       "  </tbody>\n",
       "</table>\n",
       "<p>1 rows × 31 columns</p>\n",
       "</div>"
      ],
      "text/plain": [
       "     user gender  age how_tall_in_meters  weight body_mass_index  x1  y1  z1  \\\n",
       "0  debora  Woman   46               1,62      75            28,6  -3  92 -63   \n",
       "\n",
       "   x2  ...     module1       roll2     pitch2    module2       roll3  \\\n",
       "0 -23  ...  111.543713  136.548158  41.308515  34.842503  131.496468   \n",
       "\n",
       "     pitch3     module3       roll4     pitch4     module4  \n",
       "0 -2.062298  138.942434 -144.981829  39.884957  233.918789  \n",
       "\n",
       "[1 rows x 31 columns]"
      ]
     },
     "execution_count": 143,
     "metadata": {},
     "output_type": "execute_result"
    }
   ],
   "source": [
    "df['roll1'] = pd.Series(180/np.pi*(np.arctan2(df['y1'], df['z1'])))\n",
    "df['pitch1'] = pd.Series(180/np.pi*(np.arctan2(-df['x1'], np.sqrt(np.power(df['y1'], 2) + np.power(df['z1'], 2)))))\n",
    "df['module1'] = pd.Series(np.sqrt(np.power(df['x1'], 2) + np.power(df['y1'], 2) + np.power(df['z1'], 2)))\n",
    "\n",
    "df['roll2'] = pd.Series(180/np.pi*(np.arctan2(df['y2'], df['z2'])))\n",
    "df['pitch2'] = pd.Series(180/np.pi*(np.arctan2(-df['x2'], np.sqrt(np.power(df['y2'], 2) + np.power(df['z2'], 2)))))\n",
    "df['module2'] = pd.Series(np.sqrt(np.power(df['x2'], 2) + np.power(df['y2'], 2) + np.power(df['z2'], 2)))\n",
    "\n",
    "df['roll3'] = pd.Series(180/np.pi*(np.arctan2(df['y3'], df['z3'])))\n",
    "df['pitch3'] = pd.Series(180/np.pi*(np.arctan2(-df['x3'], np.sqrt(np.power(df['y3'], 2) + np.power(df['z3'], 2)))))\n",
    "df['module3'] = pd.Series(np.sqrt(np.power(df['x3'], 2) + np.power(df['y3'], 2) + np.power(df['z3'], 2)))\n",
    "\n",
    "df['roll4'] = pd.Series(180/np.pi*(np.arctan2(df['y4'], df['z4'])))\n",
    "df['pitch4'] = pd.Series(180/np.pi*(np.arctan2(-df['x4'], np.sqrt(np.power(df['y4'], 2) + np.power(df['z4'], 2)))))\n",
    "df['module4'] = pd.Series(np.sqrt(np.power(df['x4'], 2) + np.power(df['y4'], 2) + np.power(df['z4'], 2)))\n",
    "\n",
    "df.head(1)"
   ]
  },
  {
   "cell_type": "markdown",
   "metadata": {},
   "source": [
    "## Remove of x, y, z parameters for each accelerometer"
   ]
  },
  {
   "cell_type": "code",
   "execution_count": 144,
   "metadata": {},
   "outputs": [
    {
     "data": {
      "text/html": [
       "<div>\n",
       "<style scoped>\n",
       "    .dataframe tbody tr th:only-of-type {\n",
       "        vertical-align: middle;\n",
       "    }\n",
       "\n",
       "    .dataframe tbody tr th {\n",
       "        vertical-align: top;\n",
       "    }\n",
       "\n",
       "    .dataframe thead th {\n",
       "        text-align: right;\n",
       "    }\n",
       "</style>\n",
       "<table border=\"1\" class=\"dataframe\">\n",
       "  <thead>\n",
       "    <tr style=\"text-align: right;\">\n",
       "      <th></th>\n",
       "      <th>user</th>\n",
       "      <th>gender</th>\n",
       "      <th>age</th>\n",
       "      <th>how_tall_in_meters</th>\n",
       "      <th>weight</th>\n",
       "      <th>body_mass_index</th>\n",
       "      <th>x2</th>\n",
       "      <th>y2</th>\n",
       "      <th>z2</th>\n",
       "      <th>x3</th>\n",
       "      <th>...</th>\n",
       "      <th>module1</th>\n",
       "      <th>roll2</th>\n",
       "      <th>pitch2</th>\n",
       "      <th>module2</th>\n",
       "      <th>roll3</th>\n",
       "      <th>pitch3</th>\n",
       "      <th>module3</th>\n",
       "      <th>roll4</th>\n",
       "      <th>pitch4</th>\n",
       "      <th>module4</th>\n",
       "    </tr>\n",
       "  </thead>\n",
       "  <tbody>\n",
       "    <tr>\n",
       "      <th>0</th>\n",
       "      <td>debora</td>\n",
       "      <td>Woman</td>\n",
       "      <td>46</td>\n",
       "      <td>1,62</td>\n",
       "      <td>75</td>\n",
       "      <td>28,6</td>\n",
       "      <td>-23</td>\n",
       "      <td>18</td>\n",
       "      <td>-19</td>\n",
       "      <td>5</td>\n",
       "      <td>...</td>\n",
       "      <td>111.543713</td>\n",
       "      <td>136.548158</td>\n",
       "      <td>41.308515</td>\n",
       "      <td>34.842503</td>\n",
       "      <td>131.496468</td>\n",
       "      <td>-2.062298</td>\n",
       "      <td>138.942434</td>\n",
       "      <td>-144.981829</td>\n",
       "      <td>39.884957</td>\n",
       "      <td>233.918789</td>\n",
       "    </tr>\n",
       "  </tbody>\n",
       "</table>\n",
       "<p>1 rows × 28 columns</p>\n",
       "</div>"
      ],
      "text/plain": [
       "     user gender  age how_tall_in_meters  weight body_mass_index  x2  y2  z2  \\\n",
       "0  debora  Woman   46               1,62      75            28,6 -23  18 -19   \n",
       "\n",
       "   x3  ...     module1       roll2     pitch2    module2       roll3  \\\n",
       "0   5  ...  111.543713  136.548158  41.308515  34.842503  131.496468   \n",
       "\n",
       "     pitch3     module3       roll4     pitch4     module4  \n",
       "0 -2.062298  138.942434 -144.981829  39.884957  233.918789  \n",
       "\n",
       "[1 rows x 28 columns]"
      ]
     },
     "execution_count": 144,
     "metadata": {},
     "output_type": "execute_result"
    }
   ],
   "source": [
    "df = df.drop(labels = ['x1', 'y1', 'z1'], axis = 1)\n",
    "df = df.drop(labels = ['x2', 'y2', 'z2'], axis = 1)\n",
    "df = df.drop(labels = ['x3', 'y3', 'z3'], axis = 1)\n",
    "df = df.drop(labels = ['x4', 'y4', 'z4'], axis = 1)\n",
    "\n",
    "df.head(1)"
   ]
  }
 ],
 "metadata": {
  "kernelspec": {
   "display_name": "Python 3",
   "language": "python",
   "name": "python3"
  },
  "language_info": {
   "codemirror_mode": {
    "name": "ipython",
    "version": 3
   },
   "file_extension": ".py",
   "mimetype": "text/x-python",
   "name": "python",
   "nbconvert_exporter": "python",
   "pygments_lexer": "ipython3",
   "version": "3.6.8"
  }
 },
 "nbformat": 4,
 "nbformat_minor": 2
}
