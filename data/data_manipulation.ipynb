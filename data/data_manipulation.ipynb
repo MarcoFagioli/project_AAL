{
 "cells": [
  {
   "cell_type": "code",
   "execution_count": 24,
   "metadata": {},
   "outputs": [],
   "source": [
    "import pandas as pd\n",
    "import numpy as np\n",
    "import matplotlib.pyplot as plt\n",
    "import time\n",
    "plt.rcParams['figure.dpi'] = 90"
   ]
  },
  {
   "cell_type": "code",
   "execution_count": 25,
   "metadata": {},
   "outputs": [],
   "source": [
    "df = pd.read_csv('original_dataset.csv', sep = ';')"
   ]
  },
  {
   "cell_type": "markdown",
   "metadata": {},
   "source": [
    "### Introduction of roll, pitch and module parameters for each accelerometer"
   ]
  },
  {
   "cell_type": "code",
   "execution_count": 26,
   "metadata": {},
   "outputs": [
    {
     "data": {
      "text/html": [
       "<div>\n",
       "<style scoped>\n",
       "    .dataframe tbody tr th:only-of-type {\n",
       "        vertical-align: middle;\n",
       "    }\n",
       "\n",
       "    .dataframe tbody tr th {\n",
       "        vertical-align: top;\n",
       "    }\n",
       "\n",
       "    .dataframe thead th {\n",
       "        text-align: right;\n",
       "    }\n",
       "</style>\n",
       "<table border=\"1\" class=\"dataframe\">\n",
       "  <thead>\n",
       "    <tr style=\"text-align: right;\">\n",
       "      <th></th>\n",
       "      <th>user</th>\n",
       "      <th>gender</th>\n",
       "      <th>age</th>\n",
       "      <th>how_tall_in_meters</th>\n",
       "      <th>weight</th>\n",
       "      <th>body_mass_index</th>\n",
       "      <th>x1</th>\n",
       "      <th>y1</th>\n",
       "      <th>z1</th>\n",
       "      <th>x2</th>\n",
       "      <th>...</th>\n",
       "      <th>accel1</th>\n",
       "      <th>roll2</th>\n",
       "      <th>pitch2</th>\n",
       "      <th>accel2</th>\n",
       "      <th>roll3</th>\n",
       "      <th>pitch3</th>\n",
       "      <th>accel3</th>\n",
       "      <th>roll4</th>\n",
       "      <th>pitch4</th>\n",
       "      <th>accel4</th>\n",
       "    </tr>\n",
       "  </thead>\n",
       "  <tbody>\n",
       "    <tr>\n",
       "      <th>0</th>\n",
       "      <td>debora</td>\n",
       "      <td>Woman</td>\n",
       "      <td>46</td>\n",
       "      <td>1,62</td>\n",
       "      <td>75</td>\n",
       "      <td>28,6</td>\n",
       "      <td>-3</td>\n",
       "      <td>92</td>\n",
       "      <td>-63</td>\n",
       "      <td>-23</td>\n",
       "      <td>...</td>\n",
       "      <td>111.543713</td>\n",
       "      <td>136.548158</td>\n",
       "      <td>41.308515</td>\n",
       "      <td>34.842503</td>\n",
       "      <td>131.496468</td>\n",
       "      <td>-2.062298</td>\n",
       "      <td>138.942434</td>\n",
       "      <td>-144.981829</td>\n",
       "      <td>39.884957</td>\n",
       "      <td>233.918789</td>\n",
       "    </tr>\n",
       "  </tbody>\n",
       "</table>\n",
       "<p>1 rows × 31 columns</p>\n",
       "</div>"
      ],
      "text/plain": [
       "     user gender  age how_tall_in_meters  weight body_mass_index  x1  y1  z1  \\\n",
       "0  debora  Woman   46               1,62      75            28,6  -3  92 -63   \n",
       "\n",
       "   x2  ...      accel1       roll2     pitch2     accel2       roll3  \\\n",
       "0 -23  ...  111.543713  136.548158  41.308515  34.842503  131.496468   \n",
       "\n",
       "     pitch3      accel3       roll4     pitch4      accel4  \n",
       "0 -2.062298  138.942434 -144.981829  39.884957  233.918789  \n",
       "\n",
       "[1 rows x 31 columns]"
      ]
     },
     "execution_count": 26,
     "metadata": {},
     "output_type": "execute_result"
    }
   ],
   "source": [
    "df['roll1'] = pd.Series(180/np.pi*(np.arctan2(df['y1'], df['z1'])))\n",
    "df['pitch1'] = pd.Series(180/np.pi*(np.arctan2(-df['x1'], np.sqrt(np.power(df['y1'], 2) + np.power(df['z1'], 2)))))\n",
    "df['accel1'] = pd.Series(np.sqrt(np.power(df['x1'], 2) + np.power(df['y1'], 2) + np.power(df['z1'], 2)))\n",
    "\n",
    "df['roll2'] = pd.Series(180/np.pi*(np.arctan2(df['y2'], df['z2'])))\n",
    "df['pitch2'] = pd.Series(180/np.pi*(np.arctan2(-df['x2'], np.sqrt(np.power(df['y2'], 2) + np.power(df['z2'], 2)))))\n",
    "df['accel2'] = pd.Series(np.sqrt(np.power(df['x2'], 2) + np.power(df['y2'], 2) + np.power(df['z2'], 2)))\n",
    "\n",
    "df['roll3'] = pd.Series(180/np.pi*(np.arctan2(df['y3'], df['z3'])))\n",
    "df['pitch3'] = pd.Series(180/np.pi*(np.arctan2(-df['x3'], np.sqrt(np.power(df['y3'], 2) + np.power(df['z3'], 2)))))\n",
    "df['accel3'] = pd.Series(np.sqrt(np.power(df['x3'], 2) + np.power(df['y3'], 2) + np.power(df['z3'], 2)))\n",
    "\n",
    "df['roll4'] = pd.Series(180/np.pi*(np.arctan2(df['y4'], df['z4'])))\n",
    "df['pitch4'] = pd.Series(180/np.pi*(np.arctan2(-df['x4'], np.sqrt(np.power(df['y4'], 2) + np.power(df['z4'], 2)))))\n",
    "df['accel4'] = pd.Series(np.sqrt(np.power(df['x4'], 2) + np.power(df['y4'], 2) + np.power(df['z4'], 2)))\n",
    "\n",
    "df.head(1)"
   ]
  },
  {
   "cell_type": "markdown",
   "metadata": {},
   "source": [
    "#### Remove of x, y, z parameters for each accelerometer"
   ]
  },
  {
   "cell_type": "code",
   "execution_count": 29,
   "metadata": {},
   "outputs": [
    {
     "data": {
      "text/html": [
       "<div>\n",
       "<style scoped>\n",
       "    .dataframe tbody tr th:only-of-type {\n",
       "        vertical-align: middle;\n",
       "    }\n",
       "\n",
       "    .dataframe tbody tr th {\n",
       "        vertical-align: top;\n",
       "    }\n",
       "\n",
       "    .dataframe thead th {\n",
       "        text-align: right;\n",
       "    }\n",
       "</style>\n",
       "<table border=\"1\" class=\"dataframe\">\n",
       "  <thead>\n",
       "    <tr style=\"text-align: right;\">\n",
       "      <th></th>\n",
       "      <th>user</th>\n",
       "      <th>gender</th>\n",
       "      <th>age</th>\n",
       "      <th>how_tall_in_meters</th>\n",
       "      <th>weight</th>\n",
       "      <th>body_mass_index</th>\n",
       "      <th>class</th>\n",
       "      <th>roll1</th>\n",
       "      <th>pitch1</th>\n",
       "      <th>module1</th>\n",
       "      <th>roll2</th>\n",
       "      <th>pitch2</th>\n",
       "      <th>module2</th>\n",
       "      <th>roll3</th>\n",
       "      <th>pitch3</th>\n",
       "      <th>module3</th>\n",
       "      <th>roll4</th>\n",
       "      <th>pitch4</th>\n",
       "      <th>module4</th>\n",
       "    </tr>\n",
       "  </thead>\n",
       "  <tbody>\n",
       "    <tr>\n",
       "      <th>0</th>\n",
       "      <td>debora</td>\n",
       "      <td>Woman</td>\n",
       "      <td>46</td>\n",
       "      <td>1,62</td>\n",
       "      <td>75</td>\n",
       "      <td>28,6</td>\n",
       "      <td>sitting</td>\n",
       "      <td>124.402665</td>\n",
       "      <td>1.541172</td>\n",
       "      <td>111.543713</td>\n",
       "      <td>136.548158</td>\n",
       "      <td>41.308515</td>\n",
       "      <td>34.842503</td>\n",
       "      <td>131.496468</td>\n",
       "      <td>-2.062298</td>\n",
       "      <td>138.942434</td>\n",
       "      <td>-144.981829</td>\n",
       "      <td>39.884957</td>\n",
       "      <td>233.918789</td>\n",
       "    </tr>\n",
       "  </tbody>\n",
       "</table>\n",
       "</div>"
      ],
      "text/plain": [
       "     user gender  age how_tall_in_meters  weight body_mass_index    class  \\\n",
       "0  debora  Woman   46               1,62      75            28,6  sitting   \n",
       "\n",
       "        roll1    pitch1     module1       roll2     pitch2    module2  \\\n",
       "0  124.402665  1.541172  111.543713  136.548158  41.308515  34.842503   \n",
       "\n",
       "        roll3    pitch3     module3       roll4     pitch4     module4  \n",
       "0  131.496468 -2.062298  138.942434 -144.981829  39.884957  233.918789  "
      ]
     },
     "execution_count": 29,
     "metadata": {},
     "output_type": "execute_result"
    }
   ],
   "source": [
    "df = df.drop(labels = ['x1', 'y1', 'z1'], axis = 1)\n",
    "df = df.drop(labels = ['x2', 'y2', 'z2'], axis = 1)\n",
    "df = df.drop(labels = ['x3', 'y3', 'z3'], axis = 1)\n",
    "df = df.drop(labels = ['x4', 'y4', 'z4'], axis = 1)\n",
    "\n",
    "df.head(1)"
   ]
  },
  {
   "cell_type": "markdown",
   "metadata": {},
   "source": [
    "### Given 8 row calculate mean and std for the roll, pitch and module parameters"
   ]
  },
  {
   "cell_type": "code",
   "execution_count": 27,
   "metadata": {},
   "outputs": [],
   "source": [
    "def make_mean_variance(dataframe):\n",
    "    new_row = {}\n",
    "\n",
    "    for field in ['user', 'gender', 'age', 'how_tall_in_meters', 'weight', 'body_mass_index', 'class']:\n",
    "        new_row[field] = dataframe[field].iloc[0]\n",
    "    \n",
    "    for field in ['roll1', 'pitch1', 'roll2', 'pitch2', 'roll3', 'pitch3','roll4', 'pitch4']:\n",
    "        new_row[str(f'{field}_var')] = dataframe[field].var()\n",
    "    #for field in ['accel1', 'accel2', 'accel3', 'accel4']:\n",
    "    #    new_row[str(f'{field}_mean')] = dataframe[field].mean()\n",
    "        \n",
    "    for i in range (1, 5):\n",
    "        x_list = dataframe[f'x{i}']\n",
    "        y_list = dataframe[f'y{i}']\n",
    "        z_list = dataframe[f'z{i}']\n",
    "        x = x_list.sum()\n",
    "        y = y_list.sum()\n",
    "        z = z_list.sum()\n",
    "\n",
    "        new_row[str(f'accel{i}_module')] = np.sqrt(np.power(x, 2) + np.power(y, 2) + np.power(z, 2))/x_list.shape[0]\n",
    "    \n",
    "    return new_row"
   ]
  },
  {
   "cell_type": "code",
   "execution_count": null,
   "metadata": {},
   "outputs": [],
   "source": []
  },
  {
   "cell_type": "code",
   "execution_count": 28,
   "metadata": {
    "scrolled": false
   },
   "outputs": [
    {
     "data": {
      "text/html": [
       "<div>\n",
       "<style scoped>\n",
       "    .dataframe tbody tr th:only-of-type {\n",
       "        vertical-align: middle;\n",
       "    }\n",
       "\n",
       "    .dataframe tbody tr th {\n",
       "        vertical-align: top;\n",
       "    }\n",
       "\n",
       "    .dataframe thead th {\n",
       "        text-align: right;\n",
       "    }\n",
       "</style>\n",
       "<table border=\"1\" class=\"dataframe\">\n",
       "  <thead>\n",
       "    <tr style=\"text-align: right;\">\n",
       "      <th></th>\n",
       "      <th>accel1_module</th>\n",
       "      <th>accel2_module</th>\n",
       "      <th>accel3_module</th>\n",
       "      <th>accel4_module</th>\n",
       "      <th>age</th>\n",
       "      <th>body_mass_index</th>\n",
       "      <th>class</th>\n",
       "      <th>gender</th>\n",
       "      <th>how_tall_in_meters</th>\n",
       "      <th>pitch1_var</th>\n",
       "      <th>pitch2_var</th>\n",
       "      <th>pitch3_var</th>\n",
       "      <th>pitch4_var</th>\n",
       "      <th>roll1_var</th>\n",
       "      <th>roll2_var</th>\n",
       "      <th>roll3_var</th>\n",
       "      <th>roll4_var</th>\n",
       "      <th>user</th>\n",
       "      <th>weight</th>\n",
       "    </tr>\n",
       "  </thead>\n",
       "  <tbody>\n",
       "    <tr>\n",
       "      <th>0</th>\n",
       "      <td>161.185985</td>\n",
       "      <td>26.849115</td>\n",
       "      <td>87.396188</td>\n",
       "      <td>289.719962</td>\n",
       "      <td>75.0</td>\n",
       "      <td>24,0</td>\n",
       "      <td>sitting</td>\n",
       "      <td>Man</td>\n",
       "      <td>1,67</td>\n",
       "      <td>0.720065</td>\n",
       "      <td>3.128546</td>\n",
       "      <td>0.052769</td>\n",
       "      <td>0.023574</td>\n",
       "      <td>0.276897</td>\n",
       "      <td>0.759015</td>\n",
       "      <td>27669.917698</td>\n",
       "      <td>0.062205</td>\n",
       "      <td>jose_carlos</td>\n",
       "      <td>67.0</td>\n",
       "    </tr>\n",
       "  </tbody>\n",
       "</table>\n",
       "</div>"
      ],
      "text/plain": [
       "   accel1_module  accel2_module  accel3_module  accel4_module   age  \\\n",
       "0     161.185985      26.849115      87.396188     289.719962  75.0   \n",
       "\n",
       "  body_mass_index    class gender how_tall_in_meters  pitch1_var  pitch2_var  \\\n",
       "0            24,0  sitting    Man               1,67    0.720065    3.128546   \n",
       "\n",
       "   pitch3_var  pitch4_var  roll1_var  roll2_var     roll3_var  roll4_var  \\\n",
       "0    0.052769    0.023574   0.276897   0.759015  27669.917698   0.062205   \n",
       "\n",
       "          user  weight  \n",
       "0  jose_carlos    67.0  "
      ]
     },
     "execution_count": 28,
     "metadata": {},
     "output_type": "execute_result"
    }
   ],
   "source": [
    "sittingdown = df.loc[df['class'] == 'sittingdown']\n",
    "sittingdown_user = df.loc[df['user'] == 'jose_carlos']\n",
    "n_instance = sittingdown_user.shape[0]\n",
    "avg_df = pd.DataFrame()\n",
    "\n",
    "for i in range(int(np.ceil(n_instance/7))):\n",
    "    avg_df = avg_df.append(make_mean_variance(sittingdown_user[i*7:min((i+1)*7+1, n_instance)]), ignore_index=True)\n",
    "    \n",
    "avg_df.head(1)"
   ]
  },
  {
   "cell_type": "code",
   "execution_count": null,
   "metadata": {},
   "outputs": [],
   "source": []
  },
  {
   "cell_type": "markdown",
   "metadata": {},
   "source": [
    "### Mean and std on 8 subsequent rows on roll, pitch e module parameters of every accelerometer. Dataframe has been splitted by class and by user"
   ]
  },
  {
   "cell_type": "code",
   "execution_count": 29,
   "metadata": {},
   "outputs": [
    {
     "data": {
      "text/html": [
       "<div>\n",
       "<style scoped>\n",
       "    .dataframe tbody tr th:only-of-type {\n",
       "        vertical-align: middle;\n",
       "    }\n",
       "\n",
       "    .dataframe tbody tr th {\n",
       "        vertical-align: top;\n",
       "    }\n",
       "\n",
       "    .dataframe thead th {\n",
       "        text-align: right;\n",
       "    }\n",
       "</style>\n",
       "<table border=\"1\" class=\"dataframe\">\n",
       "  <thead>\n",
       "    <tr style=\"text-align: right;\">\n",
       "      <th></th>\n",
       "      <th>accel1_module</th>\n",
       "      <th>accel2_module</th>\n",
       "      <th>accel3_module</th>\n",
       "      <th>accel4_module</th>\n",
       "      <th>age</th>\n",
       "      <th>body_mass_index</th>\n",
       "      <th>class</th>\n",
       "      <th>gender</th>\n",
       "      <th>how_tall_in_meters</th>\n",
       "      <th>pitch1_var</th>\n",
       "      <th>pitch2_var</th>\n",
       "      <th>pitch3_var</th>\n",
       "      <th>pitch4_var</th>\n",
       "      <th>roll1_var</th>\n",
       "      <th>roll2_var</th>\n",
       "      <th>roll3_var</th>\n",
       "      <th>roll4_var</th>\n",
       "      <th>user</th>\n",
       "      <th>weight</th>\n",
       "    </tr>\n",
       "  </thead>\n",
       "  <tbody>\n",
       "    <tr>\n",
       "      <th>0</th>\n",
       "      <td>113.982044</td>\n",
       "      <td>29.443006</td>\n",
       "      <td>137.710577</td>\n",
       "      <td>232.960733</td>\n",
       "      <td>46.0</td>\n",
       "      <td>28,6</td>\n",
       "      <td>sitting</td>\n",
       "      <td>Woman</td>\n",
       "      <td>1,62</td>\n",
       "      <td>0.438002</td>\n",
       "      <td>45.457256</td>\n",
       "      <td>7.036388</td>\n",
       "      <td>0.221751</td>\n",
       "      <td>1.533825</td>\n",
       "      <td>30.969607</td>\n",
       "      <td>0.139855</td>\n",
       "      <td>0.153628</td>\n",
       "      <td>debora</td>\n",
       "      <td>75.0</td>\n",
       "    </tr>\n",
       "    <tr>\n",
       "      <th>1</th>\n",
       "      <td>114.797920</td>\n",
       "      <td>28.398393</td>\n",
       "      <td>137.909730</td>\n",
       "      <td>232.614790</td>\n",
       "      <td>46.0</td>\n",
       "      <td>28,6</td>\n",
       "      <td>sitting</td>\n",
       "      <td>Woman</td>\n",
       "      <td>1,62</td>\n",
       "      <td>0.419693</td>\n",
       "      <td>7.649636</td>\n",
       "      <td>0.041222</td>\n",
       "      <td>0.122911</td>\n",
       "      <td>0.566651</td>\n",
       "      <td>21.397079</td>\n",
       "      <td>0.141829</td>\n",
       "      <td>0.056268</td>\n",
       "      <td>debora</td>\n",
       "      <td>75.0</td>\n",
       "    </tr>\n",
       "    <tr>\n",
       "      <th>2</th>\n",
       "      <td>114.892001</td>\n",
       "      <td>28.135276</td>\n",
       "      <td>137.932841</td>\n",
       "      <td>231.920043</td>\n",
       "      <td>46.0</td>\n",
       "      <td>28,6</td>\n",
       "      <td>sitting</td>\n",
       "      <td>Woman</td>\n",
       "      <td>1,62</td>\n",
       "      <td>0.243040</td>\n",
       "      <td>9.296968</td>\n",
       "      <td>0.072135</td>\n",
       "      <td>0.178729</td>\n",
       "      <td>0.395055</td>\n",
       "      <td>27.383679</td>\n",
       "      <td>0.059445</td>\n",
       "      <td>0.206171</td>\n",
       "      <td>debora</td>\n",
       "      <td>75.0</td>\n",
       "    </tr>\n",
       "    <tr>\n",
       "      <th>3</th>\n",
       "      <td>115.612094</td>\n",
       "      <td>28.280680</td>\n",
       "      <td>138.280399</td>\n",
       "      <td>234.328062</td>\n",
       "      <td>46.0</td>\n",
       "      <td>28,6</td>\n",
       "      <td>sitting</td>\n",
       "      <td>Woman</td>\n",
       "      <td>1,62</td>\n",
       "      <td>1.548990</td>\n",
       "      <td>26.360763</td>\n",
       "      <td>0.065346</td>\n",
       "      <td>7.404754</td>\n",
       "      <td>0.496678</td>\n",
       "      <td>34.840695</td>\n",
       "      <td>0.153512</td>\n",
       "      <td>2.922507</td>\n",
       "      <td>debora</td>\n",
       "      <td>75.0</td>\n",
       "    </tr>\n",
       "    <tr>\n",
       "      <th>4</th>\n",
       "      <td>118.338101</td>\n",
       "      <td>28.052128</td>\n",
       "      <td>137.944565</td>\n",
       "      <td>254.748221</td>\n",
       "      <td>46.0</td>\n",
       "      <td>28,6</td>\n",
       "      <td>sitting</td>\n",
       "      <td>Woman</td>\n",
       "      <td>1,62</td>\n",
       "      <td>0.788506</td>\n",
       "      <td>8.938048</td>\n",
       "      <td>0.096916</td>\n",
       "      <td>2.268310</td>\n",
       "      <td>0.570225</td>\n",
       "      <td>13.505881</td>\n",
       "      <td>0.244922</td>\n",
       "      <td>1.251896</td>\n",
       "      <td>debora</td>\n",
       "      <td>75.0</td>\n",
       "    </tr>\n",
       "  </tbody>\n",
       "</table>\n",
       "</div>"
      ],
      "text/plain": [
       "   accel1_module  accel2_module  accel3_module  accel4_module   age  \\\n",
       "0     113.982044      29.443006     137.710577     232.960733  46.0   \n",
       "1     114.797920      28.398393     137.909730     232.614790  46.0   \n",
       "2     114.892001      28.135276     137.932841     231.920043  46.0   \n",
       "3     115.612094      28.280680     138.280399     234.328062  46.0   \n",
       "4     118.338101      28.052128     137.944565     254.748221  46.0   \n",
       "\n",
       "  body_mass_index    class gender how_tall_in_meters  pitch1_var  pitch2_var  \\\n",
       "0            28,6  sitting  Woman               1,62    0.438002   45.457256   \n",
       "1            28,6  sitting  Woman               1,62    0.419693    7.649636   \n",
       "2            28,6  sitting  Woman               1,62    0.243040    9.296968   \n",
       "3            28,6  sitting  Woman               1,62    1.548990   26.360763   \n",
       "4            28,6  sitting  Woman               1,62    0.788506    8.938048   \n",
       "\n",
       "   pitch3_var  pitch4_var  roll1_var  roll2_var  roll3_var  roll4_var    user  \\\n",
       "0    7.036388    0.221751   1.533825  30.969607   0.139855   0.153628  debora   \n",
       "1    0.041222    0.122911   0.566651  21.397079   0.141829   0.056268  debora   \n",
       "2    0.072135    0.178729   0.395055  27.383679   0.059445   0.206171  debora   \n",
       "3    0.065346    7.404754   0.496678  34.840695   0.153512   2.922507  debora   \n",
       "4    0.096916    2.268310   0.570225  13.505881   0.244922   1.251896  debora   \n",
       "\n",
       "   weight  \n",
       "0    75.0  \n",
       "1    75.0  \n",
       "2    75.0  \n",
       "3    75.0  \n",
       "4    75.0  "
      ]
     },
     "execution_count": 29,
     "metadata": {},
     "output_type": "execute_result"
    }
   ],
   "source": [
    "avg_df = pd.DataFrame()\n",
    "\n",
    "for classe in df['class'].unique():\n",
    "    class_df = df.loc[df['class'] == classe]\n",
    "    \n",
    "    for user in df['user'].unique():\n",
    "        class_user_df = class_df.loc[class_df['user'] == user]\n",
    "        n_instance = class_user_df.shape[0]\n",
    "        \n",
    "        for i in range(int(np.ceil(n_instance/7))):\n",
    "            avg_df = avg_df.append(make_mean_variance(class_user_df[i*7:min((i+1)*7+1, n_instance)]), ignore_index=True)\n",
    "\n",
    "avg_df.head()"
   ]
  },
  {
   "cell_type": "markdown",
   "metadata": {},
   "source": [
    "### Discretization "
   ]
  },
  {
   "cell_type": "code",
   "execution_count": 30,
   "metadata": {},
   "outputs": [
    {
     "data": {
      "text/html": [
       "<div>\n",
       "<style scoped>\n",
       "    .dataframe tbody tr th:only-of-type {\n",
       "        vertical-align: middle;\n",
       "    }\n",
       "\n",
       "    .dataframe tbody tr th {\n",
       "        vertical-align: top;\n",
       "    }\n",
       "\n",
       "    .dataframe thead th {\n",
       "        text-align: right;\n",
       "    }\n",
       "</style>\n",
       "<table border=\"1\" class=\"dataframe\">\n",
       "  <thead>\n",
       "    <tr style=\"text-align: right;\">\n",
       "      <th></th>\n",
       "      <th>accel1_module</th>\n",
       "      <th>accel2_module</th>\n",
       "      <th>accel3_module</th>\n",
       "      <th>accel4_module</th>\n",
       "      <th>age</th>\n",
       "      <th>body_mass_index</th>\n",
       "      <th>class</th>\n",
       "      <th>gender</th>\n",
       "      <th>how_tall_in_meters</th>\n",
       "      <th>pitch1_var</th>\n",
       "      <th>...</th>\n",
       "      <th>roll1_var</th>\n",
       "      <th>roll2_var</th>\n",
       "      <th>roll3_var</th>\n",
       "      <th>roll4_var</th>\n",
       "      <th>user</th>\n",
       "      <th>weight</th>\n",
       "      <th>accel1_module_disc</th>\n",
       "      <th>accel2_module_disc</th>\n",
       "      <th>accel3_module_disc</th>\n",
       "      <th>accel4_module_disc</th>\n",
       "    </tr>\n",
       "  </thead>\n",
       "  <tbody>\n",
       "    <tr>\n",
       "      <th>0</th>\n",
       "      <td>113.982044</td>\n",
       "      <td>29.443006</td>\n",
       "      <td>137.710577</td>\n",
       "      <td>232.960733</td>\n",
       "      <td>46.0</td>\n",
       "      <td>28,6</td>\n",
       "      <td>sitting</td>\n",
       "      <td>Woman</td>\n",
       "      <td>1,62</td>\n",
       "      <td>0.438002</td>\n",
       "      <td>...</td>\n",
       "      <td>1.533825</td>\n",
       "      <td>30.969607</td>\n",
       "      <td>0.139855</td>\n",
       "      <td>0.153628</td>\n",
       "      <td>debora</td>\n",
       "      <td>75.0</td>\n",
       "      <td>1</td>\n",
       "      <td>0</td>\n",
       "      <td>0</td>\n",
       "      <td>1</td>\n",
       "    </tr>\n",
       "  </tbody>\n",
       "</table>\n",
       "<p>1 rows × 23 columns</p>\n",
       "</div>"
      ],
      "text/plain": [
       "   accel1_module  accel2_module  accel3_module  accel4_module   age  \\\n",
       "0     113.982044      29.443006     137.710577     232.960733  46.0   \n",
       "\n",
       "  body_mass_index    class gender how_tall_in_meters  pitch1_var  ...  \\\n",
       "0            28,6  sitting  Woman               1,62    0.438002  ...   \n",
       "\n",
       "   roll1_var  roll2_var  roll3_var  roll4_var    user  weight  \\\n",
       "0   1.533825  30.969607   0.139855   0.153628  debora    75.0   \n",
       "\n",
       "   accel1_module_disc accel2_module_disc  accel3_module_disc  \\\n",
       "0                   1                  0                   0   \n",
       "\n",
       "  accel4_module_disc  \n",
       "0                  1  \n",
       "\n",
       "[1 rows x 23 columns]"
      ]
     },
     "execution_count": 30,
     "metadata": {},
     "output_type": "execute_result"
    }
   ],
   "source": [
    "n_bins = 12\n",
    "\n",
    "for acceleration in ['accel1_module', 'accel2_module', 'accel3_module', 'accel4_module']:\n",
    "    avg_df[f'{acceleration}_disc'] = pd.Series(pd.cut(avg_df[acceleration], n_bins, \\\n",
    "                                              labels=list(range(n_bins))))\n",
    "\n",
    "avg_df.head(1)"
   ]
  },
  {
   "cell_type": "markdown",
   "metadata": {},
   "source": [
    "### Mean and std of acceleration_module"
   ]
  },
  {
   "cell_type": "code",
   "execution_count": 31,
   "metadata": {},
   "outputs": [
    {
     "data": {
      "text/html": [
       "<div>\n",
       "<style scoped>\n",
       "    .dataframe tbody tr th:only-of-type {\n",
       "        vertical-align: middle;\n",
       "    }\n",
       "\n",
       "    .dataframe tbody tr th {\n",
       "        vertical-align: top;\n",
       "    }\n",
       "\n",
       "    .dataframe thead th {\n",
       "        text-align: right;\n",
       "    }\n",
       "</style>\n",
       "<table border=\"1\" class=\"dataframe\">\n",
       "  <thead>\n",
       "    <tr style=\"text-align: right;\">\n",
       "      <th></th>\n",
       "      <th>accel1_module</th>\n",
       "      <th>accel2_module</th>\n",
       "      <th>accel3_module</th>\n",
       "      <th>accel4_module</th>\n",
       "      <th>age</th>\n",
       "      <th>body_mass_index</th>\n",
       "      <th>class</th>\n",
       "      <th>gender</th>\n",
       "      <th>how_tall_in_meters</th>\n",
       "      <th>pitch1_var</th>\n",
       "      <th>...</th>\n",
       "      <th>roll3_var</th>\n",
       "      <th>roll4_var</th>\n",
       "      <th>user</th>\n",
       "      <th>weight</th>\n",
       "      <th>accel1_module_disc</th>\n",
       "      <th>accel2_module_disc</th>\n",
       "      <th>accel3_module_disc</th>\n",
       "      <th>accel4_module_disc</th>\n",
       "      <th>accel_mean</th>\n",
       "      <th>accel_std</th>\n",
       "    </tr>\n",
       "  </thead>\n",
       "  <tbody>\n",
       "    <tr>\n",
       "      <th>0</th>\n",
       "      <td>113.982044</td>\n",
       "      <td>29.443006</td>\n",
       "      <td>137.710577</td>\n",
       "      <td>232.960733</td>\n",
       "      <td>46.0</td>\n",
       "      <td>28,6</td>\n",
       "      <td>sitting</td>\n",
       "      <td>Woman</td>\n",
       "      <td>1,62</td>\n",
       "      <td>0.438002</td>\n",
       "      <td>...</td>\n",
       "      <td>0.139855</td>\n",
       "      <td>0.153628</td>\n",
       "      <td>debora</td>\n",
       "      <td>75.0</td>\n",
       "      <td>1</td>\n",
       "      <td>0</td>\n",
       "      <td>0</td>\n",
       "      <td>1</td>\n",
       "      <td>128.52409</td>\n",
       "      <td>72.491269</td>\n",
       "    </tr>\n",
       "  </tbody>\n",
       "</table>\n",
       "<p>1 rows × 25 columns</p>\n",
       "</div>"
      ],
      "text/plain": [
       "   accel1_module  accel2_module  accel3_module  accel4_module   age  \\\n",
       "0     113.982044      29.443006     137.710577     232.960733  46.0   \n",
       "\n",
       "  body_mass_index    class gender how_tall_in_meters  pitch1_var  ...  \\\n",
       "0            28,6  sitting  Woman               1,62    0.438002  ...   \n",
       "\n",
       "   roll3_var  roll4_var    user  weight  accel1_module_disc  \\\n",
       "0   0.139855   0.153628  debora    75.0                   1   \n",
       "\n",
       "   accel2_module_disc  accel3_module_disc accel4_module_disc  accel_mean  \\\n",
       "0                   0                   0                  1   128.52409   \n",
       "\n",
       "   accel_std  \n",
       "0  72.491269  \n",
       "\n",
       "[1 rows x 25 columns]"
      ]
     },
     "execution_count": 31,
     "metadata": {},
     "output_type": "execute_result"
    }
   ],
   "source": [
    "avg_df['accel_mean'] = (avg_df['accel1_module'] + avg_df['accel2_module'] + \\\n",
    "                        avg_df['accel3_module'] + avg_df['accel4_module']) /4\n",
    "\n",
    "accel_std = [np.std([avg_df['accel1_module'].iloc[i], avg_df['accel2_module'].iloc[i], \\\n",
    "                        avg_df['accel3_module'].iloc[i], avg_df['accel4_module'].iloc[i]]) for i in range(avg_df.shape[0])]\n",
    "avg_df['accel_std'] = pd.Series(accel_std)\n",
    "    \n",
    "avg_df.head(1)"
   ]
  },
  {
   "cell_type": "markdown",
   "metadata": {},
   "source": [
    "#### Write the new dataframe on file"
   ]
  },
  {
   "cell_type": "code",
   "execution_count": 32,
   "metadata": {},
   "outputs": [],
   "source": [
    "avg_df.to_csv('measure_dataset.csv', sep = ';', index=False)"
   ]
  },
  {
   "cell_type": "markdown",
   "metadata": {},
   "source": [
    "#### Read modify dataset"
   ]
  },
  {
   "cell_type": "code",
   "execution_count": 33,
   "metadata": {},
   "outputs": [],
   "source": [
    "avg_df = pd.read_csv('measure_dataset.csv', sep = ';')"
   ]
  },
  {
   "cell_type": "code",
   "execution_count": null,
   "metadata": {},
   "outputs": [],
   "source": []
  },
  {
   "cell_type": "markdown",
   "metadata": {},
   "source": [
    "### Counting and plot of distribution value of accel1, accel2, accel3 and accel4"
   ]
  },
  {
   "cell_type": "code",
   "execution_count": 185,
   "metadata": {},
   "outputs": [
    {
     "name": "stdout",
     "output_type": "stream",
     "text": [
      "Generale (elementi 23668)\n",
      "2 8739\n",
      "3 7898\n",
      "1 3987\n",
      "0 1987\n",
      "4 1029\n",
      "5 14\n",
      "13 7\n",
      "12 2\n",
      "9 1\n",
      "10 1\n",
      "14 1\n",
      "8 1\n",
      "6 1\n"
     ]
    }
   ],
   "source": [
    "from collections import Counter\n",
    "\n",
    "n_bins = 15\n",
    "\n",
    "print(f'Generale (elementi {avg_df.shape[0]})')\n",
    "for key, value in Counter(pd.cut(avg_df['accel1'], n_bins, labels=list(range(n_bins)))).most_common():\n",
    "    print(key, value)\n",
    "\n",
    "\n",
    "#for interval in avg_df['discrete_interval'].unique():\n",
    "#    print(f'\\ninterval {interval}')\n",
    "#    print(avg_df.loc[avg_df['discrete_interval'] == interval]['class'].value_counts())\n"
   ]
  },
  {
   "cell_type": "code",
   "execution_count": 186,
   "metadata": {},
   "outputs": [
    {
     "data": {
      "image/png": "[encoded data removed]",
      "text/plain": [
       "<Figure size 540x360 with 1 Axes>"
      ]
     },
     "metadata": {
      "needs_background": "light"
     },
     "output_type": "display_data"
    },
    {
     "data": {
      "text/plain": [
       "\"\\nfor classe in avg_df['class'].unique():\\n    class_df = avg_df.loc[avg_df['class'] == classe]\\n    module1 = class_df['accel1']\\n    plt.plot(list(range(len(module1))), module1, linestyle = ' ', marker = '.')\\n    plt.title(classe)\\n    plt.show()\\n\""
      ]
     },
     "execution_count": 186,
     "metadata": {},
     "output_type": "execute_result"
    }
   ],
   "source": [
    "plt.plot(list(range(len(avg_df))), avg_df['accel1'], linestyle = ' ', marker = '.')\n",
    "plt.title('Totale')\n",
    "plt.show()\n",
    "\n",
    "'''\n",
    "for classe in avg_df['class'].unique():\n",
    "    class_df = avg_df.loc[avg_df['class'] == classe]\n",
    "    module1 = class_df['accel1']\n",
    "    plt.plot(list(range(len(module1))), module1, linestyle = ' ', marker = '.')\n",
    "    plt.title(classe)\n",
    "    plt.show()\n",
    "'''"
   ]
  },
  {
   "cell_type": "code",
   "execution_count": null,
   "metadata": {},
   "outputs": [],
   "source": []
  },
  {
   "cell_type": "code",
   "execution_count": 215,
   "metadata": {},
   "outputs": [
    {
     "name": "stdout",
     "output_type": "stream",
     "text": [
      "generale: 131.57192152485703\n",
      "\n",
      "classe sitting: 86.25177269084847\n",
      "utente debora: 96.22567953304662\n",
      "utente katia: 47.77669054206964\n",
      "utente wallace: 93.00415456718092\n",
      "utente jose_carlos: 137.13335544293201\n",
      "\n",
      "classe sittingdown: 156.16614715190957\n",
      "utente debora: 133.79742034273644\n",
      "utente katia: 172.26467004053765\n",
      "utente wallace: 154.6935025151664\n",
      "utente jose_carlos: 181.6956010552999\n",
      "\n",
      "classe standing: 145.9206733303471\n",
      "utente debora: 134.86471336657618\n",
      "utente katia: 139.77535652256452\n",
      "utente wallace: 154.76370597698173\n",
      "utente jose_carlos: 179.36438895715187\n",
      "\n",
      "classe standingup: 153.0317737647981\n",
      "utente debora: 137.63160874947843\n",
      "utente katia: 158.98013853629743\n",
      "utente wallace: 159.57604207776404\n",
      "utente jose_carlos: 167.03958344897296\n",
      "\n",
      "classe walking: 155.93704679231536\n",
      "utente debora: 145.17716668910018\n",
      "utente katia: 157.02862356455745\n",
      "utente wallace: 161.70320785475715\n",
      "utente jose_carlos: 179.2728132931691\n"
     ]
    }
   ],
   "source": [
    "print(f\"generale: {avg_df['accel1'].mean()}\")\n",
    "for classe in avg_df['class'].unique():\n",
    "    class_df = avg_df.loc[avg_df['class'] == classe]\n",
    "    print(f\"\\nclasse {classe}: {class_df['accel1'].mean()}\")\n",
    "    \n",
    "    for user in avg_df['user'].unique():\n",
    "        class_user_df = class_df.loc[class_df['user'] == user]\n",
    "        print(f\"utente {user}: {class_user_df['accel1'].mean()}\")"
   ]
  },
  {
   "cell_type": "markdown",
   "metadata": {},
   "source": [
    "### Compare 'accel_mean' and 'accel_module'"
   ]
  },
  {
   "cell_type": "code",
   "execution_count": 21,
   "metadata": {},
   "outputs": [],
   "source": [
    "compare = {}\n",
    "for accel in ['accel1', 'accel2', 'accel3', 'accel4']:\n",
    "    mean = avg_df[f'{accel}_mean']\n",
    "    module = avg_df[f'{accel}_module']\n",
    "\n",
    "    compare[accel] = pd.Series(mean-module).sort_values(ascending = False)"
   ]
  },
  {
   "cell_type": "markdown",
   "metadata": {},
   "source": [
    "### Distribution of classes by user"
   ]
  },
  {
   "cell_type": "code",
   "execution_count": 306,
   "metadata": {},
   "outputs": [
    {
     "data": {
      "text/plain": [
       "debora         30.840789\n",
       "wallace        29.612293\n",
       "katia          28.204065\n",
       "jose_carlos    11.342853\n",
       "Name: user, dtype: float64"
      ]
     },
     "execution_count": 306,
     "metadata": {},
     "output_type": "execute_result"
    }
   ],
   "source": [
    "n_instance = df.loc[df['class'] == 'sitting'].shape[0]\n",
    "df.loc[df['class'] == 'sitting']['user'].value_counts()/n_instance*100"
   ]
  },
  {
   "cell_type": "code",
   "execution_count": 74,
   "metadata": {},
   "outputs": [
    {
     "data": {
      "text/plain": [
       "debora         31.538949\n",
       "wallace        30.540426\n",
       "katia          30.048554\n",
       "jose_carlos     7.872071\n",
       "Name: user, dtype: float64"
      ]
     },
     "execution_count": 74,
     "metadata": {},
     "output_type": "execute_result"
    }
   ],
   "source": [
    "n_instance = df.loc[df['class'] == 'standing'].shape[0]\n",
    "df.loc[df['class'] == 'standing']['user'].value_counts()/n_instance*100"
   ]
  },
  {
   "cell_type": "code",
   "execution_count": 34,
   "metadata": {},
   "outputs": [
    {
     "data": {
      "text/plain": [
       "wallace        32.350772\n",
       "debora         31.394330\n",
       "katia          31.242222\n",
       "jose_carlos     5.012676\n",
       "Name: user, dtype: float64"
      ]
     },
     "execution_count": 34,
     "metadata": {},
     "output_type": "execute_result"
    }
   ],
   "source": [
    "n_instance = df.loc[df['class'] == 'walking'].shape[0]\n",
    "df.loc[df['class'] == 'walking']['user'].value_counts()/n_instance*100"
   ]
  },
  {
   "cell_type": "code",
   "execution_count": 32,
   "metadata": {},
   "outputs": [
    {
     "data": {
      "text/plain": [
       "wallace        33.145389\n",
       "debora         31.035038\n",
       "katia          29.883206\n",
       "jose_carlos     5.936367\n",
       "Name: user, dtype: float64"
      ]
     },
     "execution_count": 32,
     "metadata": {},
     "output_type": "execute_result"
    }
   ],
   "source": [
    "n_instance = df.loc[df['class'] == 'standingup'].shape[0]\n",
    "df.loc[df['class'] == 'standingup']['user'].value_counts()/n_instance*100"
   ]
  },
  {
   "cell_type": "code",
   "execution_count": 30,
   "metadata": {},
   "outputs": [
    {
     "data": {
      "text/plain": [
       "katia          33.964657\n",
       "debora         29.990699\n",
       "wallace        29.474930\n",
       "jose_carlos     6.569713\n",
       "Name: user, dtype: float64"
      ]
     },
     "execution_count": 30,
     "metadata": {},
     "output_type": "execute_result"
    }
   ],
   "source": [
    "n_instance = df.loc[df['class'] == 'sittingdown'].shape[0]\n",
    "df.loc[df['class'] == 'sittingdown']['user'].value_counts()/n_instance*100"
   ]
  },
  {
   "cell_type": "markdown",
   "metadata": {},
   "source": [
    "### Some plot"
   ]
  },
  {
   "cell_type": "code",
   "execution_count": 217,
   "metadata": {},
   "outputs": [
    {
     "data": {
      "image/png": "[encoded data removed]",
      "text/plain": [
       "<Figure size 1080x720 with 1 Axes>"
      ]
     },
     "metadata": {
      "needs_background": "light"
     },
     "output_type": "display_data"
    }
   ],
   "source": [
    "fields = ['roll1_var', 'roll2_var', 'roll3_var', 'roll4_var']\n",
    "colors = ['#ff0000', '#00ff00', '#0000ff', '#ff00ff']\n",
    "legend = []\n",
    "labels = []\n",
    "\n",
    "for k, field in enumerate(fields):\n",
    "    legend.append(plt.plot(list(range(avg_df.shape[0])), list(avg_df[field]), \\\n",
    "                           linestyle = '-', marker = '.', color = colors[k])[0])\n",
    "    labels.append(field)\n",
    " \n",
    "    \n",
    "plt.grid(True)\n",
    "plt.yscale(\"log\")\n",
    "plt.legend(legend, labels, loc='center left', bbox_to_anchor=(1, 0.5))\n",
    "plt.ylabel(\"Module\")\n",
    "plt.xlabel(\"Rows\")\n",
    "plt.show()"
   ]
  }
 ],
 "metadata": {
  "kernelspec": {
   "display_name": "Python 3",
   "language": "python",
   "name": "python3"
  },
  "language_info": {
   "codemirror_mode": {
    "name": "ipython",
    "version": 3
   },
   "file_extension": ".py",
   "mimetype": "text/x-python",
   "name": "python",
   "nbconvert_exporter": "python",
   "pygments_lexer": "ipython3",
   "version": "3.6.8"
  }
 },
 "nbformat": 4,
 "nbformat_minor": 2
}
